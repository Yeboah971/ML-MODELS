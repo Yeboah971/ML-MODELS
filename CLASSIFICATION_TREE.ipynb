{
 "cells": [
  {
   "cell_type": "code",
   "execution_count": 15,
   "id": "da8f5215",
   "metadata": {},
   "outputs": [],
   "source": [
    "import numpy as np\n",
    "import pandas as pd\n",
    "import seaborn as sns\n",
    "import matplotlib.pyplot as plt"
   ]
  },
  {
   "cell_type": "code",
   "execution_count": 16,
   "id": "2b4f69ac",
   "metadata": {},
   "outputs": [],
   "source": [
    "df = pd.read_csv('Movie_classification.csv', header=0)"
   ]
  },
  {
   "cell_type": "code",
   "execution_count": 4,
   "id": "14fe9996",
   "metadata": {},
   "outputs": [
    {
     "data": {
      "text/html": [
       "<div>\n",
       "<style scoped>\n",
       "    .dataframe tbody tr th:only-of-type {\n",
       "        vertical-align: middle;\n",
       "    }\n",
       "\n",
       "    .dataframe tbody tr th {\n",
       "        vertical-align: top;\n",
       "    }\n",
       "\n",
       "    .dataframe thead th {\n",
       "        text-align: right;\n",
       "    }\n",
       "</style>\n",
       "<table border=\"1\" class=\"dataframe\">\n",
       "  <thead>\n",
       "    <tr style=\"text-align: right;\">\n",
       "      <th></th>\n",
       "      <th>Marketing expense</th>\n",
       "      <th>Production expense</th>\n",
       "      <th>Multiplex coverage</th>\n",
       "      <th>Budget</th>\n",
       "      <th>Movie_length</th>\n",
       "      <th>Lead_ Actor_Rating</th>\n",
       "      <th>Lead_Actress_rating</th>\n",
       "      <th>Director_rating</th>\n",
       "      <th>Producer_rating</th>\n",
       "      <th>Critic_rating</th>\n",
       "      <th>Trailer_views</th>\n",
       "      <th>3D_available</th>\n",
       "      <th>Time_taken</th>\n",
       "      <th>Twitter_hastags</th>\n",
       "      <th>Genre</th>\n",
       "      <th>Avg_age_actors</th>\n",
       "      <th>Num_multiplex</th>\n",
       "      <th>Collection</th>\n",
       "      <th>Start_Tech_Oscar</th>\n",
       "    </tr>\n",
       "  </thead>\n",
       "  <tbody>\n",
       "    <tr>\n",
       "      <th>0</th>\n",
       "      <td>20.1264</td>\n",
       "      <td>59.62</td>\n",
       "      <td>0.462</td>\n",
       "      <td>36524.125</td>\n",
       "      <td>138.7</td>\n",
       "      <td>7.825</td>\n",
       "      <td>8.095</td>\n",
       "      <td>7.910</td>\n",
       "      <td>7.995</td>\n",
       "      <td>7.94</td>\n",
       "      <td>527367</td>\n",
       "      <td>YES</td>\n",
       "      <td>109.60</td>\n",
       "      <td>223.840</td>\n",
       "      <td>Thriller</td>\n",
       "      <td>23</td>\n",
       "      <td>494</td>\n",
       "      <td>48000</td>\n",
       "      <td>1</td>\n",
       "    </tr>\n",
       "    <tr>\n",
       "      <th>1</th>\n",
       "      <td>20.5462</td>\n",
       "      <td>69.14</td>\n",
       "      <td>0.531</td>\n",
       "      <td>35668.655</td>\n",
       "      <td>152.4</td>\n",
       "      <td>7.505</td>\n",
       "      <td>7.650</td>\n",
       "      <td>7.440</td>\n",
       "      <td>7.470</td>\n",
       "      <td>7.44</td>\n",
       "      <td>494055</td>\n",
       "      <td>NO</td>\n",
       "      <td>146.64</td>\n",
       "      <td>243.456</td>\n",
       "      <td>Drama</td>\n",
       "      <td>42</td>\n",
       "      <td>462</td>\n",
       "      <td>43200</td>\n",
       "      <td>0</td>\n",
       "    </tr>\n",
       "    <tr>\n",
       "      <th>2</th>\n",
       "      <td>20.5458</td>\n",
       "      <td>69.14</td>\n",
       "      <td>0.531</td>\n",
       "      <td>39912.675</td>\n",
       "      <td>134.6</td>\n",
       "      <td>7.485</td>\n",
       "      <td>7.570</td>\n",
       "      <td>7.495</td>\n",
       "      <td>7.515</td>\n",
       "      <td>7.44</td>\n",
       "      <td>547051</td>\n",
       "      <td>NO</td>\n",
       "      <td>147.88</td>\n",
       "      <td>2022.400</td>\n",
       "      <td>Comedy</td>\n",
       "      <td>38</td>\n",
       "      <td>458</td>\n",
       "      <td>69400</td>\n",
       "      <td>1</td>\n",
       "    </tr>\n",
       "    <tr>\n",
       "      <th>3</th>\n",
       "      <td>20.6474</td>\n",
       "      <td>59.36</td>\n",
       "      <td>0.542</td>\n",
       "      <td>38873.890</td>\n",
       "      <td>119.3</td>\n",
       "      <td>6.895</td>\n",
       "      <td>7.035</td>\n",
       "      <td>6.920</td>\n",
       "      <td>7.020</td>\n",
       "      <td>8.26</td>\n",
       "      <td>516279</td>\n",
       "      <td>YES</td>\n",
       "      <td>185.36</td>\n",
       "      <td>225.344</td>\n",
       "      <td>Drama</td>\n",
       "      <td>45</td>\n",
       "      <td>472</td>\n",
       "      <td>66800</td>\n",
       "      <td>1</td>\n",
       "    </tr>\n",
       "    <tr>\n",
       "      <th>4</th>\n",
       "      <td>21.3810</td>\n",
       "      <td>59.36</td>\n",
       "      <td>0.542</td>\n",
       "      <td>39701.585</td>\n",
       "      <td>127.7</td>\n",
       "      <td>6.920</td>\n",
       "      <td>7.070</td>\n",
       "      <td>6.815</td>\n",
       "      <td>7.070</td>\n",
       "      <td>8.26</td>\n",
       "      <td>531448</td>\n",
       "      <td>NO</td>\n",
       "      <td>176.48</td>\n",
       "      <td>225.792</td>\n",
       "      <td>Drama</td>\n",
       "      <td>55</td>\n",
       "      <td>395</td>\n",
       "      <td>72400</td>\n",
       "      <td>1</td>\n",
       "    </tr>\n",
       "    <tr>\n",
       "      <th>5</th>\n",
       "      <td>20.5970</td>\n",
       "      <td>59.36</td>\n",
       "      <td>0.542</td>\n",
       "      <td>35718.650</td>\n",
       "      <td>132.2</td>\n",
       "      <td>6.890</td>\n",
       "      <td>7.100</td>\n",
       "      <td>6.885</td>\n",
       "      <td>7.005</td>\n",
       "      <td>7.26</td>\n",
       "      <td>498425</td>\n",
       "      <td>YES</td>\n",
       "      <td>143.48</td>\n",
       "      <td>284.592</td>\n",
       "      <td>Comedy</td>\n",
       "      <td>53</td>\n",
       "      <td>460</td>\n",
       "      <td>57400</td>\n",
       "      <td>0</td>\n",
       "    </tr>\n",
       "    <tr>\n",
       "      <th>6</th>\n",
       "      <td>21.7658</td>\n",
       "      <td>70.74</td>\n",
       "      <td>0.476</td>\n",
       "      <td>33396.660</td>\n",
       "      <td>140.1</td>\n",
       "      <td>7.065</td>\n",
       "      <td>7.265</td>\n",
       "      <td>7.150</td>\n",
       "      <td>7.400</td>\n",
       "      <td>8.96</td>\n",
       "      <td>459241</td>\n",
       "      <td>YES</td>\n",
       "      <td>139.16</td>\n",
       "      <td>243.664</td>\n",
       "      <td>Thriller</td>\n",
       "      <td>41</td>\n",
       "      <td>522</td>\n",
       "      <td>45800</td>\n",
       "      <td>0</td>\n",
       "    </tr>\n",
       "    <tr>\n",
       "      <th>7</th>\n",
       "      <td>22.8910</td>\n",
       "      <td>70.74</td>\n",
       "      <td>0.476</td>\n",
       "      <td>34285.460</td>\n",
       "      <td>169.6</td>\n",
       "      <td>6.980</td>\n",
       "      <td>7.075</td>\n",
       "      <td>6.875</td>\n",
       "      <td>7.170</td>\n",
       "      <td>7.96</td>\n",
       "      <td>400821</td>\n",
       "      <td>NO</td>\n",
       "      <td>116.84</td>\n",
       "      <td>243.536</td>\n",
       "      <td>Drama</td>\n",
       "      <td>56</td>\n",
       "      <td>571</td>\n",
       "      <td>44200</td>\n",
       "      <td>0</td>\n",
       "    </tr>\n",
       "    <tr>\n",
       "      <th>8</th>\n",
       "      <td>24.2248</td>\n",
       "      <td>70.74</td>\n",
       "      <td>0.476</td>\n",
       "      <td>31280.205</td>\n",
       "      <td>173.5</td>\n",
       "      <td>6.910</td>\n",
       "      <td>7.075</td>\n",
       "      <td>6.850</td>\n",
       "      <td>7.000</td>\n",
       "      <td>7.96</td>\n",
       "      <td>295168</td>\n",
       "      <td>YES</td>\n",
       "      <td>118.60</td>\n",
       "      <td>242.640</td>\n",
       "      <td>Comedy</td>\n",
       "      <td>55</td>\n",
       "      <td>564</td>\n",
       "      <td>33000</td>\n",
       "      <td>1</td>\n",
       "    </tr>\n",
       "    <tr>\n",
       "      <th>9</th>\n",
       "      <td>23.4008</td>\n",
       "      <td>70.74</td>\n",
       "      <td>0.476</td>\n",
       "      <td>33352.220</td>\n",
       "      <td>159.4</td>\n",
       "      <td>6.665</td>\n",
       "      <td>6.725</td>\n",
       "      <td>6.575</td>\n",
       "      <td>6.855</td>\n",
       "      <td>7.96</td>\n",
       "      <td>412012</td>\n",
       "      <td>YES</td>\n",
       "      <td>189.56</td>\n",
       "      <td>283.024</td>\n",
       "      <td>Thriller</td>\n",
       "      <td>45</td>\n",
       "      <td>508</td>\n",
       "      <td>37800</td>\n",
       "      <td>1</td>\n",
       "    </tr>\n",
       "  </tbody>\n",
       "</table>\n",
       "</div>"
      ],
      "text/plain": [
       "   Marketing expense  Production expense  Multiplex coverage     Budget  \\\n",
       "0            20.1264               59.62               0.462  36524.125   \n",
       "1            20.5462               69.14               0.531  35668.655   \n",
       "2            20.5458               69.14               0.531  39912.675   \n",
       "3            20.6474               59.36               0.542  38873.890   \n",
       "4            21.3810               59.36               0.542  39701.585   \n",
       "5            20.5970               59.36               0.542  35718.650   \n",
       "6            21.7658               70.74               0.476  33396.660   \n",
       "7            22.8910               70.74               0.476  34285.460   \n",
       "8            24.2248               70.74               0.476  31280.205   \n",
       "9            23.4008               70.74               0.476  33352.220   \n",
       "\n",
       "   Movie_length  Lead_ Actor_Rating  Lead_Actress_rating  Director_rating  \\\n",
       "0         138.7               7.825                8.095            7.910   \n",
       "1         152.4               7.505                7.650            7.440   \n",
       "2         134.6               7.485                7.570            7.495   \n",
       "3         119.3               6.895                7.035            6.920   \n",
       "4         127.7               6.920                7.070            6.815   \n",
       "5         132.2               6.890                7.100            6.885   \n",
       "6         140.1               7.065                7.265            7.150   \n",
       "7         169.6               6.980                7.075            6.875   \n",
       "8         173.5               6.910                7.075            6.850   \n",
       "9         159.4               6.665                6.725            6.575   \n",
       "\n",
       "   Producer_rating  Critic_rating  Trailer_views 3D_available  Time_taken  \\\n",
       "0            7.995           7.94         527367          YES      109.60   \n",
       "1            7.470           7.44         494055           NO      146.64   \n",
       "2            7.515           7.44         547051           NO      147.88   \n",
       "3            7.020           8.26         516279          YES      185.36   \n",
       "4            7.070           8.26         531448           NO      176.48   \n",
       "5            7.005           7.26         498425          YES      143.48   \n",
       "6            7.400           8.96         459241          YES      139.16   \n",
       "7            7.170           7.96         400821           NO      116.84   \n",
       "8            7.000           7.96         295168          YES      118.60   \n",
       "9            6.855           7.96         412012          YES      189.56   \n",
       "\n",
       "   Twitter_hastags     Genre  Avg_age_actors  Num_multiplex  Collection  \\\n",
       "0          223.840  Thriller              23            494       48000   \n",
       "1          243.456     Drama              42            462       43200   \n",
       "2         2022.400    Comedy              38            458       69400   \n",
       "3          225.344     Drama              45            472       66800   \n",
       "4          225.792     Drama              55            395       72400   \n",
       "5          284.592    Comedy              53            460       57400   \n",
       "6          243.664  Thriller              41            522       45800   \n",
       "7          243.536     Drama              56            571       44200   \n",
       "8          242.640    Comedy              55            564       33000   \n",
       "9          283.024  Thriller              45            508       37800   \n",
       "\n",
       "   Start_Tech_Oscar  \n",
       "0                 1  \n",
       "1                 0  \n",
       "2                 1  \n",
       "3                 1  \n",
       "4                 1  \n",
       "5                 0  \n",
       "6                 0  \n",
       "7                 0  \n",
       "8                 1  \n",
       "9                 1  "
      ]
     },
     "execution_count": 4,
     "metadata": {},
     "output_type": "execute_result"
    }
   ],
   "source": [
    "df.head(10)"
   ]
  },
  {
   "cell_type": "code",
   "execution_count": 7,
   "id": "718d5216",
   "metadata": {},
   "outputs": [
    {
     "name": "stdout",
     "output_type": "stream",
     "text": [
      "<class 'pandas.core.frame.DataFrame'>\n",
      "RangeIndex: 506 entries, 0 to 505\n",
      "Data columns (total 19 columns):\n",
      " #   Column               Non-Null Count  Dtype  \n",
      "---  ------               --------------  -----  \n",
      " 0   Marketing expense    506 non-null    float64\n",
      " 1   Production expense   506 non-null    float64\n",
      " 2   Multiplex coverage   506 non-null    float64\n",
      " 3   Budget               506 non-null    float64\n",
      " 4   Movie_length         506 non-null    float64\n",
      " 5   Lead_ Actor_Rating   506 non-null    float64\n",
      " 6   Lead_Actress_rating  506 non-null    float64\n",
      " 7   Director_rating      506 non-null    float64\n",
      " 8   Producer_rating      506 non-null    float64\n",
      " 9   Critic_rating        506 non-null    float64\n",
      " 10  Trailer_views        506 non-null    int64  \n",
      " 11  3D_available         506 non-null    object \n",
      " 12  Time_taken           494 non-null    float64\n",
      " 13  Twitter_hastags      506 non-null    float64\n",
      " 14  Genre                506 non-null    object \n",
      " 15  Avg_age_actors       506 non-null    int64  \n",
      " 16  Num_multiplex        506 non-null    int64  \n",
      " 17  Collection           506 non-null    int64  \n",
      " 18  Start_Tech_Oscar     506 non-null    int64  \n",
      "dtypes: float64(12), int64(5), object(2)\n",
      "memory usage: 75.2+ KB\n"
     ]
    }
   ],
   "source": [
    "df.info()"
   ]
  },
  {
   "cell_type": "markdown",
   "id": "5cc2da3f",
   "metadata": {},
   "source": [
    "# Missin Value Imputation"
   ]
  },
  {
   "cell_type": "code",
   "execution_count": 17,
   "id": "190ea4d3",
   "metadata": {},
   "outputs": [
    {
     "data": {
      "text/plain": [
       "157.39149797570855"
      ]
     },
     "execution_count": 17,
     "metadata": {},
     "output_type": "execute_result"
    }
   ],
   "source": [
    "df['Time_taken'].mean()"
   ]
  },
  {
   "cell_type": "code",
   "execution_count": 18,
   "id": "e3154223",
   "metadata": {},
   "outputs": [],
   "source": [
    "df['Time_taken'].fillna(value=df['Time_taken'].mean(), inplace =True)"
   ]
  },
  {
   "cell_type": "code",
   "execution_count": 8,
   "id": "e553cf09",
   "metadata": {},
   "outputs": [
    {
     "name": "stdout",
     "output_type": "stream",
     "text": [
      "<class 'pandas.core.frame.DataFrame'>\n",
      "RangeIndex: 506 entries, 0 to 505\n",
      "Data columns (total 19 columns):\n",
      " #   Column               Non-Null Count  Dtype  \n",
      "---  ------               --------------  -----  \n",
      " 0   Marketing expense    506 non-null    float64\n",
      " 1   Production expense   506 non-null    float64\n",
      " 2   Multiplex coverage   506 non-null    float64\n",
      " 3   Budget               506 non-null    float64\n",
      " 4   Movie_length         506 non-null    float64\n",
      " 5   Lead_ Actor_Rating   506 non-null    float64\n",
      " 6   Lead_Actress_rating  506 non-null    float64\n",
      " 7   Director_rating      506 non-null    float64\n",
      " 8   Producer_rating      506 non-null    float64\n",
      " 9   Critic_rating        506 non-null    float64\n",
      " 10  Trailer_views        506 non-null    int64  \n",
      " 11  3D_available         506 non-null    object \n",
      " 12  Time_taken           506 non-null    float64\n",
      " 13  Twitter_hastags      506 non-null    float64\n",
      " 14  Genre                506 non-null    object \n",
      " 15  Avg_age_actors       506 non-null    int64  \n",
      " 16  Num_multiplex        506 non-null    int64  \n",
      " 17  Collection           506 non-null    int64  \n",
      " 18  Start_Tech_Oscar     506 non-null    int64  \n",
      "dtypes: float64(12), int64(5), object(2)\n",
      "memory usage: 75.2+ KB\n"
     ]
    }
   ],
   "source": [
    "df.info()"
   ]
  },
  {
   "cell_type": "markdown",
   "id": "413a08b3",
   "metadata": {},
   "source": [
    "# Dummy Variables Creation"
   ]
  },
  {
   "cell_type": "code",
   "execution_count": null,
   "id": "9765bc95",
   "metadata": {},
   "outputs": [],
   "source": [
    "df.head()"
   ]
  },
  {
   "cell_type": "code",
   "execution_count": 19,
   "id": "33b9a949",
   "metadata": {},
   "outputs": [],
   "source": [
    "df = pd.get_dummies(df,columns = ['3D_available', 'Genre'], drop_first = True)"
   ]
  },
  {
   "cell_type": "code",
   "execution_count": 12,
   "id": "82c89a26",
   "metadata": {},
   "outputs": [
    {
     "data": {
      "text/html": [
       "<div>\n",
       "<style scoped>\n",
       "    .dataframe tbody tr th:only-of-type {\n",
       "        vertical-align: middle;\n",
       "    }\n",
       "\n",
       "    .dataframe tbody tr th {\n",
       "        vertical-align: top;\n",
       "    }\n",
       "\n",
       "    .dataframe thead th {\n",
       "        text-align: right;\n",
       "    }\n",
       "</style>\n",
       "<table border=\"1\" class=\"dataframe\">\n",
       "  <thead>\n",
       "    <tr style=\"text-align: right;\">\n",
       "      <th></th>\n",
       "      <th>Marketing expense</th>\n",
       "      <th>Production expense</th>\n",
       "      <th>Multiplex coverage</th>\n",
       "      <th>Budget</th>\n",
       "      <th>Movie_length</th>\n",
       "      <th>Lead_ Actor_Rating</th>\n",
       "      <th>Lead_Actress_rating</th>\n",
       "      <th>Director_rating</th>\n",
       "      <th>Producer_rating</th>\n",
       "      <th>Critic_rating</th>\n",
       "      <th>...</th>\n",
       "      <th>Time_taken</th>\n",
       "      <th>Twitter_hastags</th>\n",
       "      <th>Avg_age_actors</th>\n",
       "      <th>Num_multiplex</th>\n",
       "      <th>Collection</th>\n",
       "      <th>Start_Tech_Oscar</th>\n",
       "      <th>3D_available_YES</th>\n",
       "      <th>Genre_Comedy</th>\n",
       "      <th>Genre_Drama</th>\n",
       "      <th>Genre_Thriller</th>\n",
       "    </tr>\n",
       "  </thead>\n",
       "  <tbody>\n",
       "    <tr>\n",
       "      <th>0</th>\n",
       "      <td>20.1264</td>\n",
       "      <td>59.62</td>\n",
       "      <td>0.462</td>\n",
       "      <td>36524.125</td>\n",
       "      <td>138.7</td>\n",
       "      <td>7.825</td>\n",
       "      <td>8.095</td>\n",
       "      <td>7.910</td>\n",
       "      <td>7.995</td>\n",
       "      <td>7.94</td>\n",
       "      <td>...</td>\n",
       "      <td>109.60</td>\n",
       "      <td>223.840</td>\n",
       "      <td>23</td>\n",
       "      <td>494</td>\n",
       "      <td>48000</td>\n",
       "      <td>1</td>\n",
       "      <td>1</td>\n",
       "      <td>0</td>\n",
       "      <td>0</td>\n",
       "      <td>1</td>\n",
       "    </tr>\n",
       "    <tr>\n",
       "      <th>1</th>\n",
       "      <td>20.5462</td>\n",
       "      <td>69.14</td>\n",
       "      <td>0.531</td>\n",
       "      <td>35668.655</td>\n",
       "      <td>152.4</td>\n",
       "      <td>7.505</td>\n",
       "      <td>7.650</td>\n",
       "      <td>7.440</td>\n",
       "      <td>7.470</td>\n",
       "      <td>7.44</td>\n",
       "      <td>...</td>\n",
       "      <td>146.64</td>\n",
       "      <td>243.456</td>\n",
       "      <td>42</td>\n",
       "      <td>462</td>\n",
       "      <td>43200</td>\n",
       "      <td>0</td>\n",
       "      <td>0</td>\n",
       "      <td>0</td>\n",
       "      <td>1</td>\n",
       "      <td>0</td>\n",
       "    </tr>\n",
       "    <tr>\n",
       "      <th>2</th>\n",
       "      <td>20.5458</td>\n",
       "      <td>69.14</td>\n",
       "      <td>0.531</td>\n",
       "      <td>39912.675</td>\n",
       "      <td>134.6</td>\n",
       "      <td>7.485</td>\n",
       "      <td>7.570</td>\n",
       "      <td>7.495</td>\n",
       "      <td>7.515</td>\n",
       "      <td>7.44</td>\n",
       "      <td>...</td>\n",
       "      <td>147.88</td>\n",
       "      <td>2022.400</td>\n",
       "      <td>38</td>\n",
       "      <td>458</td>\n",
       "      <td>69400</td>\n",
       "      <td>1</td>\n",
       "      <td>0</td>\n",
       "      <td>1</td>\n",
       "      <td>0</td>\n",
       "      <td>0</td>\n",
       "    </tr>\n",
       "    <tr>\n",
       "      <th>3</th>\n",
       "      <td>20.6474</td>\n",
       "      <td>59.36</td>\n",
       "      <td>0.542</td>\n",
       "      <td>38873.890</td>\n",
       "      <td>119.3</td>\n",
       "      <td>6.895</td>\n",
       "      <td>7.035</td>\n",
       "      <td>6.920</td>\n",
       "      <td>7.020</td>\n",
       "      <td>8.26</td>\n",
       "      <td>...</td>\n",
       "      <td>185.36</td>\n",
       "      <td>225.344</td>\n",
       "      <td>45</td>\n",
       "      <td>472</td>\n",
       "      <td>66800</td>\n",
       "      <td>1</td>\n",
       "      <td>1</td>\n",
       "      <td>0</td>\n",
       "      <td>1</td>\n",
       "      <td>0</td>\n",
       "    </tr>\n",
       "    <tr>\n",
       "      <th>4</th>\n",
       "      <td>21.3810</td>\n",
       "      <td>59.36</td>\n",
       "      <td>0.542</td>\n",
       "      <td>39701.585</td>\n",
       "      <td>127.7</td>\n",
       "      <td>6.920</td>\n",
       "      <td>7.070</td>\n",
       "      <td>6.815</td>\n",
       "      <td>7.070</td>\n",
       "      <td>8.26</td>\n",
       "      <td>...</td>\n",
       "      <td>176.48</td>\n",
       "      <td>225.792</td>\n",
       "      <td>55</td>\n",
       "      <td>395</td>\n",
       "      <td>72400</td>\n",
       "      <td>1</td>\n",
       "      <td>0</td>\n",
       "      <td>0</td>\n",
       "      <td>1</td>\n",
       "      <td>0</td>\n",
       "    </tr>\n",
       "  </tbody>\n",
       "</table>\n",
       "<p>5 rows × 21 columns</p>\n",
       "</div>"
      ],
      "text/plain": [
       "   Marketing expense  Production expense  Multiplex coverage     Budget  \\\n",
       "0            20.1264               59.62               0.462  36524.125   \n",
       "1            20.5462               69.14               0.531  35668.655   \n",
       "2            20.5458               69.14               0.531  39912.675   \n",
       "3            20.6474               59.36               0.542  38873.890   \n",
       "4            21.3810               59.36               0.542  39701.585   \n",
       "\n",
       "   Movie_length  Lead_ Actor_Rating  Lead_Actress_rating  Director_rating  \\\n",
       "0         138.7               7.825                8.095            7.910   \n",
       "1         152.4               7.505                7.650            7.440   \n",
       "2         134.6               7.485                7.570            7.495   \n",
       "3         119.3               6.895                7.035            6.920   \n",
       "4         127.7               6.920                7.070            6.815   \n",
       "\n",
       "   Producer_rating  Critic_rating  ...  Time_taken  Twitter_hastags  \\\n",
       "0            7.995           7.94  ...      109.60          223.840   \n",
       "1            7.470           7.44  ...      146.64          243.456   \n",
       "2            7.515           7.44  ...      147.88         2022.400   \n",
       "3            7.020           8.26  ...      185.36          225.344   \n",
       "4            7.070           8.26  ...      176.48          225.792   \n",
       "\n",
       "   Avg_age_actors  Num_multiplex  Collection  Start_Tech_Oscar  \\\n",
       "0              23            494       48000                 1   \n",
       "1              42            462       43200                 0   \n",
       "2              38            458       69400                 1   \n",
       "3              45            472       66800                 1   \n",
       "4              55            395       72400                 1   \n",
       "\n",
       "   3D_available_YES  Genre_Comedy  Genre_Drama  Genre_Thriller  \n",
       "0                 1             0            0               1  \n",
       "1                 0             0            1               0  \n",
       "2                 0             1            0               0  \n",
       "3                 1             0            1               0  \n",
       "4                 0             0            1               0  \n",
       "\n",
       "[5 rows x 21 columns]"
      ]
     },
     "execution_count": 12,
     "metadata": {},
     "output_type": "execute_result"
    }
   ],
   "source": [
    "df.head()"
   ]
  },
  {
   "cell_type": "markdown",
   "id": "5fd0bb16",
   "metadata": {},
   "source": [
    "# X-y split"
   ]
  },
  {
   "cell_type": "code",
   "execution_count": 20,
   "id": "ccc42220",
   "metadata": {},
   "outputs": [
    {
     "data": {
      "text/plain": [
       "pandas.core.frame.DataFrame"
      ]
     },
     "execution_count": 20,
     "metadata": {},
     "output_type": "execute_result"
    }
   ],
   "source": [
    "x = df.loc[:,df.columns!='Start_Tech_Oscar']\n",
    "type(x)"
   ]
  },
  {
   "cell_type": "code",
   "execution_count": 14,
   "id": "6064235a",
   "metadata": {},
   "outputs": [
    {
     "data": {
      "text/html": [
       "<div>\n",
       "<style scoped>\n",
       "    .dataframe tbody tr th:only-of-type {\n",
       "        vertical-align: middle;\n",
       "    }\n",
       "\n",
       "    .dataframe tbody tr th {\n",
       "        vertical-align: top;\n",
       "    }\n",
       "\n",
       "    .dataframe thead th {\n",
       "        text-align: right;\n",
       "    }\n",
       "</style>\n",
       "<table border=\"1\" class=\"dataframe\">\n",
       "  <thead>\n",
       "    <tr style=\"text-align: right;\">\n",
       "      <th></th>\n",
       "      <th>Marketing expense</th>\n",
       "      <th>Production expense</th>\n",
       "      <th>Multiplex coverage</th>\n",
       "      <th>Budget</th>\n",
       "      <th>Movie_length</th>\n",
       "      <th>Lead_ Actor_Rating</th>\n",
       "      <th>Lead_Actress_rating</th>\n",
       "      <th>Director_rating</th>\n",
       "      <th>Producer_rating</th>\n",
       "      <th>Critic_rating</th>\n",
       "      <th>Trailer_views</th>\n",
       "      <th>Time_taken</th>\n",
       "      <th>Twitter_hastags</th>\n",
       "      <th>Avg_age_actors</th>\n",
       "      <th>Num_multiplex</th>\n",
       "      <th>Collection</th>\n",
       "      <th>3D_available_YES</th>\n",
       "      <th>Genre_Comedy</th>\n",
       "      <th>Genre_Drama</th>\n",
       "      <th>Genre_Thriller</th>\n",
       "    </tr>\n",
       "  </thead>\n",
       "  <tbody>\n",
       "    <tr>\n",
       "      <th>0</th>\n",
       "      <td>20.1264</td>\n",
       "      <td>59.62</td>\n",
       "      <td>0.462</td>\n",
       "      <td>36524.125</td>\n",
       "      <td>138.7</td>\n",
       "      <td>7.825</td>\n",
       "      <td>8.095</td>\n",
       "      <td>7.910</td>\n",
       "      <td>7.995</td>\n",
       "      <td>7.94</td>\n",
       "      <td>527367</td>\n",
       "      <td>109.60</td>\n",
       "      <td>223.840</td>\n",
       "      <td>23</td>\n",
       "      <td>494</td>\n",
       "      <td>48000</td>\n",
       "      <td>1</td>\n",
       "      <td>0</td>\n",
       "      <td>0</td>\n",
       "      <td>1</td>\n",
       "    </tr>\n",
       "    <tr>\n",
       "      <th>1</th>\n",
       "      <td>20.5462</td>\n",
       "      <td>69.14</td>\n",
       "      <td>0.531</td>\n",
       "      <td>35668.655</td>\n",
       "      <td>152.4</td>\n",
       "      <td>7.505</td>\n",
       "      <td>7.650</td>\n",
       "      <td>7.440</td>\n",
       "      <td>7.470</td>\n",
       "      <td>7.44</td>\n",
       "      <td>494055</td>\n",
       "      <td>146.64</td>\n",
       "      <td>243.456</td>\n",
       "      <td>42</td>\n",
       "      <td>462</td>\n",
       "      <td>43200</td>\n",
       "      <td>0</td>\n",
       "      <td>0</td>\n",
       "      <td>1</td>\n",
       "      <td>0</td>\n",
       "    </tr>\n",
       "    <tr>\n",
       "      <th>2</th>\n",
       "      <td>20.5458</td>\n",
       "      <td>69.14</td>\n",
       "      <td>0.531</td>\n",
       "      <td>39912.675</td>\n",
       "      <td>134.6</td>\n",
       "      <td>7.485</td>\n",
       "      <td>7.570</td>\n",
       "      <td>7.495</td>\n",
       "      <td>7.515</td>\n",
       "      <td>7.44</td>\n",
       "      <td>547051</td>\n",
       "      <td>147.88</td>\n",
       "      <td>2022.400</td>\n",
       "      <td>38</td>\n",
       "      <td>458</td>\n",
       "      <td>69400</td>\n",
       "      <td>0</td>\n",
       "      <td>1</td>\n",
       "      <td>0</td>\n",
       "      <td>0</td>\n",
       "    </tr>\n",
       "    <tr>\n",
       "      <th>3</th>\n",
       "      <td>20.6474</td>\n",
       "      <td>59.36</td>\n",
       "      <td>0.542</td>\n",
       "      <td>38873.890</td>\n",
       "      <td>119.3</td>\n",
       "      <td>6.895</td>\n",
       "      <td>7.035</td>\n",
       "      <td>6.920</td>\n",
       "      <td>7.020</td>\n",
       "      <td>8.26</td>\n",
       "      <td>516279</td>\n",
       "      <td>185.36</td>\n",
       "      <td>225.344</td>\n",
       "      <td>45</td>\n",
       "      <td>472</td>\n",
       "      <td>66800</td>\n",
       "      <td>1</td>\n",
       "      <td>0</td>\n",
       "      <td>1</td>\n",
       "      <td>0</td>\n",
       "    </tr>\n",
       "    <tr>\n",
       "      <th>4</th>\n",
       "      <td>21.3810</td>\n",
       "      <td>59.36</td>\n",
       "      <td>0.542</td>\n",
       "      <td>39701.585</td>\n",
       "      <td>127.7</td>\n",
       "      <td>6.920</td>\n",
       "      <td>7.070</td>\n",
       "      <td>6.815</td>\n",
       "      <td>7.070</td>\n",
       "      <td>8.26</td>\n",
       "      <td>531448</td>\n",
       "      <td>176.48</td>\n",
       "      <td>225.792</td>\n",
       "      <td>55</td>\n",
       "      <td>395</td>\n",
       "      <td>72400</td>\n",
       "      <td>0</td>\n",
       "      <td>0</td>\n",
       "      <td>1</td>\n",
       "      <td>0</td>\n",
       "    </tr>\n",
       "  </tbody>\n",
       "</table>\n",
       "</div>"
      ],
      "text/plain": [
       "   Marketing expense  Production expense  Multiplex coverage     Budget  \\\n",
       "0            20.1264               59.62               0.462  36524.125   \n",
       "1            20.5462               69.14               0.531  35668.655   \n",
       "2            20.5458               69.14               0.531  39912.675   \n",
       "3            20.6474               59.36               0.542  38873.890   \n",
       "4            21.3810               59.36               0.542  39701.585   \n",
       "\n",
       "   Movie_length  Lead_ Actor_Rating  Lead_Actress_rating  Director_rating  \\\n",
       "0         138.7               7.825                8.095            7.910   \n",
       "1         152.4               7.505                7.650            7.440   \n",
       "2         134.6               7.485                7.570            7.495   \n",
       "3         119.3               6.895                7.035            6.920   \n",
       "4         127.7               6.920                7.070            6.815   \n",
       "\n",
       "   Producer_rating  Critic_rating  Trailer_views  Time_taken  Twitter_hastags  \\\n",
       "0            7.995           7.94         527367      109.60          223.840   \n",
       "1            7.470           7.44         494055      146.64          243.456   \n",
       "2            7.515           7.44         547051      147.88         2022.400   \n",
       "3            7.020           8.26         516279      185.36          225.344   \n",
       "4            7.070           8.26         531448      176.48          225.792   \n",
       "\n",
       "   Avg_age_actors  Num_multiplex  Collection  3D_available_YES  Genre_Comedy  \\\n",
       "0              23            494       48000                 1             0   \n",
       "1              42            462       43200                 0             0   \n",
       "2              38            458       69400                 0             1   \n",
       "3              45            472       66800                 1             0   \n",
       "4              55            395       72400                 0             0   \n",
       "\n",
       "   Genre_Drama  Genre_Thriller  \n",
       "0            0               1  \n",
       "1            1               0  \n",
       "2            0               0  \n",
       "3            1               0  \n",
       "4            1               0  "
      ]
     },
     "execution_count": 14,
     "metadata": {},
     "output_type": "execute_result"
    }
   ],
   "source": [
    "x.head()"
   ]
  },
  {
   "cell_type": "code",
   "execution_count": 15,
   "id": "ae146b8b",
   "metadata": {},
   "outputs": [
    {
     "data": {
      "text/plain": [
       "(506, 20)"
      ]
     },
     "execution_count": 15,
     "metadata": {},
     "output_type": "execute_result"
    }
   ],
   "source": [
    "x.shape"
   ]
  },
  {
   "cell_type": "code",
   "execution_count": 21,
   "id": "7575e2a3",
   "metadata": {},
   "outputs": [
    {
     "data": {
      "text/plain": [
       "pandas.core.series.Series"
      ]
     },
     "execution_count": 21,
     "metadata": {},
     "output_type": "execute_result"
    }
   ],
   "source": [
    "y = df['Start_Tech_Oscar']\n",
    "type(y)"
   ]
  },
  {
   "cell_type": "code",
   "execution_count": 16,
   "id": "98c5b9f7",
   "metadata": {},
   "outputs": [
    {
     "data": {
      "text/plain": [
       "0    1\n",
       "1    0\n",
       "2    1\n",
       "3    1\n",
       "4    1\n",
       "Name: Start_Tech_Oscar, dtype: int64"
      ]
     },
     "execution_count": 16,
     "metadata": {},
     "output_type": "execute_result"
    }
   ],
   "source": [
    "y.head()"
   ]
  },
  {
   "cell_type": "code",
   "execution_count": 17,
   "id": "b79c5f7b",
   "metadata": {},
   "outputs": [
    {
     "data": {
      "text/plain": [
       "(506,)"
      ]
     },
     "execution_count": 17,
     "metadata": {},
     "output_type": "execute_result"
    }
   ],
   "source": [
    "y.shape"
   ]
  },
  {
   "cell_type": "markdown",
   "id": "7dd2b763",
   "metadata": {},
   "source": [
    "# Test-Train Split"
   ]
  },
  {
   "cell_type": "code",
   "execution_count": 22,
   "id": "ba9e290f",
   "metadata": {},
   "outputs": [],
   "source": [
    "from sklearn.model_selection import train_test_split"
   ]
  },
  {
   "cell_type": "code",
   "execution_count": 23,
   "id": "463baa72",
   "metadata": {},
   "outputs": [],
   "source": [
    "x_train, x_test, y_train, y_test = train_test_split(x,y,test_size= 0.2, random_state=0)"
   ]
  },
  {
   "cell_type": "code",
   "execution_count": 19,
   "id": "1d92f73e",
   "metadata": {},
   "outputs": [
    {
     "data": {
      "text/html": [
       "<div>\n",
       "<style scoped>\n",
       "    .dataframe tbody tr th:only-of-type {\n",
       "        vertical-align: middle;\n",
       "    }\n",
       "\n",
       "    .dataframe tbody tr th {\n",
       "        vertical-align: top;\n",
       "    }\n",
       "\n",
       "    .dataframe thead th {\n",
       "        text-align: right;\n",
       "    }\n",
       "</style>\n",
       "<table border=\"1\" class=\"dataframe\">\n",
       "  <thead>\n",
       "    <tr style=\"text-align: right;\">\n",
       "      <th></th>\n",
       "      <th>Marketing expense</th>\n",
       "      <th>Production expense</th>\n",
       "      <th>Multiplex coverage</th>\n",
       "      <th>Budget</th>\n",
       "      <th>Movie_length</th>\n",
       "      <th>Lead_ Actor_Rating</th>\n",
       "      <th>Lead_Actress_rating</th>\n",
       "      <th>Director_rating</th>\n",
       "      <th>Producer_rating</th>\n",
       "      <th>Critic_rating</th>\n",
       "      <th>Trailer_views</th>\n",
       "      <th>Time_taken</th>\n",
       "      <th>Twitter_hastags</th>\n",
       "      <th>Avg_age_actors</th>\n",
       "      <th>Num_multiplex</th>\n",
       "      <th>Collection</th>\n",
       "      <th>3D_available_YES</th>\n",
       "      <th>Genre_Comedy</th>\n",
       "      <th>Genre_Drama</th>\n",
       "      <th>Genre_Thriller</th>\n",
       "    </tr>\n",
       "  </thead>\n",
       "  <tbody>\n",
       "    <tr>\n",
       "      <th>220</th>\n",
       "      <td>27.1618</td>\n",
       "      <td>67.40</td>\n",
       "      <td>0.493</td>\n",
       "      <td>38612.805</td>\n",
       "      <td>162.0</td>\n",
       "      <td>8.485</td>\n",
       "      <td>8.640</td>\n",
       "      <td>8.485</td>\n",
       "      <td>8.670</td>\n",
       "      <td>8.52</td>\n",
       "      <td>480270</td>\n",
       "      <td>174.68</td>\n",
       "      <td>224.272</td>\n",
       "      <td>23</td>\n",
       "      <td>536</td>\n",
       "      <td>53400</td>\n",
       "      <td>0</td>\n",
       "      <td>0</td>\n",
       "      <td>0</td>\n",
       "      <td>1</td>\n",
       "    </tr>\n",
       "    <tr>\n",
       "      <th>71</th>\n",
       "      <td>23.1752</td>\n",
       "      <td>76.62</td>\n",
       "      <td>0.587</td>\n",
       "      <td>33113.355</td>\n",
       "      <td>91.0</td>\n",
       "      <td>7.280</td>\n",
       "      <td>7.400</td>\n",
       "      <td>7.290</td>\n",
       "      <td>7.455</td>\n",
       "      <td>8.16</td>\n",
       "      <td>491978</td>\n",
       "      <td>200.68</td>\n",
       "      <td>263.472</td>\n",
       "      <td>46</td>\n",
       "      <td>400</td>\n",
       "      <td>43400</td>\n",
       "      <td>0</td>\n",
       "      <td>0</td>\n",
       "      <td>0</td>\n",
       "      <td>0</td>\n",
       "    </tr>\n",
       "    <tr>\n",
       "      <th>240</th>\n",
       "      <td>22.2658</td>\n",
       "      <td>64.86</td>\n",
       "      <td>0.572</td>\n",
       "      <td>38312.835</td>\n",
       "      <td>127.8</td>\n",
       "      <td>6.755</td>\n",
       "      <td>6.935</td>\n",
       "      <td>6.800</td>\n",
       "      <td>6.840</td>\n",
       "      <td>8.68</td>\n",
       "      <td>470107</td>\n",
       "      <td>204.80</td>\n",
       "      <td>224.320</td>\n",
       "      <td>24</td>\n",
       "      <td>387</td>\n",
       "      <td>54000</td>\n",
       "      <td>1</td>\n",
       "      <td>1</td>\n",
       "      <td>0</td>\n",
       "      <td>0</td>\n",
       "    </tr>\n",
       "    <tr>\n",
       "      <th>6</th>\n",
       "      <td>21.7658</td>\n",
       "      <td>70.74</td>\n",
       "      <td>0.476</td>\n",
       "      <td>33396.660</td>\n",
       "      <td>140.1</td>\n",
       "      <td>7.065</td>\n",
       "      <td>7.265</td>\n",
       "      <td>7.150</td>\n",
       "      <td>7.400</td>\n",
       "      <td>8.96</td>\n",
       "      <td>459241</td>\n",
       "      <td>139.16</td>\n",
       "      <td>243.664</td>\n",
       "      <td>41</td>\n",
       "      <td>522</td>\n",
       "      <td>45800</td>\n",
       "      <td>1</td>\n",
       "      <td>0</td>\n",
       "      <td>0</td>\n",
       "      <td>1</td>\n",
       "    </tr>\n",
       "    <tr>\n",
       "      <th>417</th>\n",
       "      <td>538.8120</td>\n",
       "      <td>91.20</td>\n",
       "      <td>0.321</td>\n",
       "      <td>29463.720</td>\n",
       "      <td>162.6</td>\n",
       "      <td>9.135</td>\n",
       "      <td>9.305</td>\n",
       "      <td>9.095</td>\n",
       "      <td>9.165</td>\n",
       "      <td>6.96</td>\n",
       "      <td>302776</td>\n",
       "      <td>172.16</td>\n",
       "      <td>301.664</td>\n",
       "      <td>60</td>\n",
       "      <td>589</td>\n",
       "      <td>20800</td>\n",
       "      <td>1</td>\n",
       "      <td>0</td>\n",
       "      <td>0</td>\n",
       "      <td>0</td>\n",
       "    </tr>\n",
       "  </tbody>\n",
       "</table>\n",
       "</div>"
      ],
      "text/plain": [
       "     Marketing expense  Production expense  Multiplex coverage     Budget  \\\n",
       "220            27.1618               67.40               0.493  38612.805   \n",
       "71             23.1752               76.62               0.587  33113.355   \n",
       "240            22.2658               64.86               0.572  38312.835   \n",
       "6              21.7658               70.74               0.476  33396.660   \n",
       "417           538.8120               91.20               0.321  29463.720   \n",
       "\n",
       "     Movie_length  Lead_ Actor_Rating  Lead_Actress_rating  Director_rating  \\\n",
       "220         162.0               8.485                8.640            8.485   \n",
       "71           91.0               7.280                7.400            7.290   \n",
       "240         127.8               6.755                6.935            6.800   \n",
       "6           140.1               7.065                7.265            7.150   \n",
       "417         162.6               9.135                9.305            9.095   \n",
       "\n",
       "     Producer_rating  Critic_rating  Trailer_views  Time_taken  \\\n",
       "220            8.670           8.52         480270      174.68   \n",
       "71             7.455           8.16         491978      200.68   \n",
       "240            6.840           8.68         470107      204.80   \n",
       "6              7.400           8.96         459241      139.16   \n",
       "417            9.165           6.96         302776      172.16   \n",
       "\n",
       "     Twitter_hastags  Avg_age_actors  Num_multiplex  Collection  \\\n",
       "220          224.272              23            536       53400   \n",
       "71           263.472              46            400       43400   \n",
       "240          224.320              24            387       54000   \n",
       "6            243.664              41            522       45800   \n",
       "417          301.664              60            589       20800   \n",
       "\n",
       "     3D_available_YES  Genre_Comedy  Genre_Drama  Genre_Thriller  \n",
       "220                 0             0            0               1  \n",
       "71                  0             0            0               0  \n",
       "240                 1             1            0               0  \n",
       "6                   1             0            0               1  \n",
       "417                 1             0            0               0  "
      ]
     },
     "execution_count": 19,
     "metadata": {},
     "output_type": "execute_result"
    }
   ],
   "source": [
    "x_train.head()"
   ]
  },
  {
   "cell_type": "code",
   "execution_count": 20,
   "id": "9899b759",
   "metadata": {},
   "outputs": [
    {
     "data": {
      "text/plain": [
       "(404, 20)"
      ]
     },
     "execution_count": 20,
     "metadata": {},
     "output_type": "execute_result"
    }
   ],
   "source": [
    "x_train.shape"
   ]
  },
  {
   "cell_type": "code",
   "execution_count": 21,
   "id": "65c2cf5c",
   "metadata": {},
   "outputs": [
    {
     "data": {
      "text/plain": [
       "(102, 20)"
      ]
     },
     "execution_count": 21,
     "metadata": {},
     "output_type": "execute_result"
    }
   ],
   "source": [
    "x_test.shape"
   ]
  },
  {
   "cell_type": "markdown",
   "id": "8c0a4d18",
   "metadata": {},
   "source": [
    "# Training Classification Tree"
   ]
  },
  {
   "cell_type": "code",
   "execution_count": 24,
   "id": "ffe40f84",
   "metadata": {},
   "outputs": [],
   "source": [
    "from sklearn import tree\n",
    "clftree = tree.DecisionTreeClassifier(max_depth = 3)"
   ]
  },
  {
   "cell_type": "code",
   "execution_count": 25,
   "id": "59025185",
   "metadata": {},
   "outputs": [
    {
     "data": {
      "text/plain": [
       "DecisionTreeClassifier(max_depth=3)"
      ]
     },
     "execution_count": 25,
     "metadata": {},
     "output_type": "execute_result"
    }
   ],
   "source": [
    "clftree.fit(x_train, y_train)"
   ]
  },
  {
   "cell_type": "markdown",
   "id": "0528a094",
   "metadata": {},
   "source": [
    "# Predic Values using trained model"
   ]
  },
  {
   "cell_type": "code",
   "execution_count": 15,
   "id": "89e3b84c",
   "metadata": {},
   "outputs": [],
   "source": [
    "y_train_pred = clftree.predict(x_train)\n",
    "y_test_pred = clftree.predict(x_test)"
   ]
  },
  {
   "cell_type": "code",
   "execution_count": 25,
   "id": "8b812bf7",
   "metadata": {},
   "outputs": [
    {
     "data": {
      "text/plain": [
       "array([0, 1, 0, 1, 0, 0, 0, 0, 1, 0, 0, 0, 0, 1, 1, 0, 0, 1, 0, 0, 0, 0,\n",
       "       0, 0, 0, 1, 0, 0, 1, 0, 0, 0, 0, 0, 0, 0, 0, 1, 0, 0, 0, 0, 0, 1,\n",
       "       0, 0, 0, 0, 1, 0, 0, 0, 0, 1, 0, 0, 0, 1, 0, 0, 1, 0, 1, 0, 0, 0,\n",
       "       0, 0, 0, 0, 0, 0, 0, 0, 0, 1, 1, 0, 0, 0, 0, 0, 0, 1, 1, 0, 0, 0,\n",
       "       0, 0, 0, 0, 1, 0, 0, 0, 1, 1, 0, 0, 0, 0], dtype=int64)"
      ]
     },
     "execution_count": 25,
     "metadata": {},
     "output_type": "execute_result"
    }
   ],
   "source": [
    "y_test_pred"
   ]
  },
  {
   "cell_type": "markdown",
   "id": "d2eb2bbc",
   "metadata": {},
   "source": [
    "# Model Performance"
   ]
  },
  {
   "cell_type": "code",
   "execution_count": 32,
   "id": "f99d3af3",
   "metadata": {},
   "outputs": [],
   "source": [
    "from sklearn.metrics import accuracy_score, confusion_matrix"
   ]
  },
  {
   "cell_type": "code",
   "execution_count": 33,
   "id": "5fab64d6",
   "metadata": {},
   "outputs": [
    {
     "name": "stdout",
     "output_type": "stream",
     "text": [
      "[0 0 1 1 1 0 0 0 0 0 0 0 0 0 0 0 0 0 1 0 0 0 0 0 0 0 0 0 0 0 0 0 0 0 0 0 0\n",
      " 0 0 0 1 0 0 0 0 0 0 0 1 0 0 0 0 0 0 1 1 1 0 0 0 0 0 1 1 0 0 0 0 0 0 0 0 0\n",
      " 0 0 0 0 0 0 0 0 0 0 0 0 0 0 0 0 0 0 0 0 0 0 0 1 1 1 0 0 0 0 0 0 0 0 0 0 0\n",
      " 0 0 0 0 0 0 0 0 0 0 0 0 0 0 0 0 0 0 0 0 0 0 0 0 0 0 0 0 0 0 1 1 1 1 0 0 1\n",
      " 1 0 0 1 1 0 0 0 1 1 0 0 0 1 1 1 0 0 1 0 0 0 0 0 0 0 0 0 0 0 0 1 1 1 1 1 0\n",
      " 0 1 1 0 1 1 0 1 0 0 1 1 0 1 1 1 0 1 1 1 0 0 0 0 1 0 1 0 0 1 0 0 0 0 0 0 0\n",
      " 0 0 1 1 1 1 1 0 0 1 1 1 0 0 0 0 0 0 0 0 0 0 1 0 0 0 0 0 0 0 1 1 1 1 1 1 1\n",
      " 0 1 1 1 0 1 0 0 1 1 0 0 0 0 1 1 1 1 1 0 1 1 1 1 1 1 0 1 0 0 0 0 1 0 0 0 0\n",
      " 0 0 0 0 0 0 0 1 1 0 1 0 0 0 1 0 0 0 0 0 0 0 0 0 0 0 0 0 0 0 0 0 0 0 0 0 0\n",
      " 0 0 0 0 0 0 0 0 1 0 0 0 0 1 1 1 1 1 1 1 1 1 1 0 0 0 0 0 0 1 0 0 1 1 1 1 1\n",
      " 1 1 1 1 1 0 0 0 0 0 0 0 0 1 1 1 1 1 1 1 0 0 1 0 0 0 0 0 1 0 0 0 0 1 0 0 0\n",
      " 0 0 0 0 0 1 1 1 0 0 1 0 0 0 0 0 0 0 0 0 0 0 0 0 0 0 0 0 0 0 0 0 0 0 0 0 0\n",
      " 0 0 0 0 0 0 0 0 0 0 0 0 0 0 0 0 0 0 0 0 0 0 0 0 0 0 0 0 0 0 1 0 0 1 0 0 0\n",
      " 0 0 0 0 0 0 0 1 0 0 0 0 0 0 0 1 0 0 0 0 0 0 0 0 0]\n"
     ]
    }
   ],
   "source": [
    "my_predict = clftree.predict(x)\n",
    "print(my_predict)"
   ]
  },
  {
   "cell_type": "code",
   "execution_count": 17,
   "id": "65b8f776",
   "metadata": {},
   "outputs": [
    {
     "data": {
      "text/plain": [
       "array([[172,  14],\n",
       "       [126,  92]], dtype=int64)"
      ]
     },
     "execution_count": 17,
     "metadata": {},
     "output_type": "execute_result"
    }
   ],
   "source": [
    "confusion_matrix(y_train, y_train_pred)"
   ]
  },
  {
   "cell_type": "code",
   "execution_count": 18,
   "id": "5795331d",
   "metadata": {},
   "outputs": [
    {
     "data": {
      "text/plain": [
       "array([[39,  5],\n",
       "       [41, 17]], dtype=int64)"
      ]
     },
     "execution_count": 18,
     "metadata": {},
     "output_type": "execute_result"
    }
   ],
   "source": [
    "confusion_matrix(y_test, y_test_pred)"
   ]
  },
  {
   "cell_type": "code",
   "execution_count": 19,
   "id": "5bb682f0",
   "metadata": {},
   "outputs": [
    {
     "data": {
      "text/plain": [
       "0.5490196078431373"
      ]
     },
     "execution_count": 19,
     "metadata": {},
     "output_type": "execute_result"
    }
   ],
   "source": [
    "accuracy_score(y_test, y_test_pred)"
   ]
  },
  {
   "cell_type": "markdown",
   "id": "b88fba01",
   "metadata": {},
   "source": [
    "# Plotting Tree growth"
   ]
  },
  {
   "cell_type": "code",
   "execution_count": 20,
   "id": "9bf79a69",
   "metadata": {},
   "outputs": [],
   "source": [
    "dot_data = tree.export_graphviz(clftree, out_file=None, feature_names=x_train.columns, filled = True)"
   ]
  },
  {
   "cell_type": "code",
   "execution_count": 21,
   "id": "0f5db006",
   "metadata": {},
   "outputs": [],
   "source": [
    "from IPython.display import Image"
   ]
  },
  {
   "cell_type": "code",
   "execution_count": 22,
   "id": "dcd4d872",
   "metadata": {},
   "outputs": [],
   "source": [
    "import pydotplus"
   ]
  },
  {
   "cell_type": "code",
   "execution_count": 23,
   "id": "5947c31c",
   "metadata": {},
   "outputs": [
    {
     "data": {
      "image/png": "[encoded data removed]",
      "text/plain": [
       "<IPython.core.display.Image object>"
      ]
     },
     "execution_count": 23,
     "metadata": {},
     "output_type": "execute_result"
    }
   ],
   "source": [
    "graph = pydotplus.graph_from_dot_data(dot_data)\n",
    "Image(graph.create_png())"
   ]
  },
  {
   "cell_type": "markdown",
   "id": "8990999a",
   "metadata": {},
   "source": [
    "\n",
    "\n",
    "\n",
    "\n",
    "# Controlling Tree Growth"
   ]
  },
  {
   "cell_type": "code",
   "execution_count": 24,
   "id": "2b9dc65d",
   "metadata": {},
   "outputs": [
    {
     "data": {
      "image/png": "[encoded data removed]",
      "text/plain": [
       "<IPython.core.display.Image object>"
      ]
     },
     "execution_count": 24,
     "metadata": {},
     "output_type": "execute_result"
    }
   ],
   "source": [
    "clftree2 = tree.DecisionTreeClassifier(min_samples_leaf = 20, max_depth = 4)\n",
    "clftree2.fit(x_train, y_train)\n",
    "dot_data = tree.export_graphviz(clftree2, out_file = None, feature_names = x_train.columns, filled= True)\n",
    "graph2 = pydotplus.graph_from_dot_data(dot_data)\n",
    "Image(graph2.create_png())"
   ]
  },
  {
   "cell_type": "code",
   "execution_count": 66,
   "id": "a5fcd36e",
   "metadata": {},
   "outputs": [
    {
     "data": {
      "text/plain": [
       "0.5588235294117647"
      ]
     },
     "execution_count": 66,
     "metadata": {},
     "output_type": "execute_result"
    }
   ],
   "source": [
    "accuracy_score(y_test, clftree2.predict(x_test))"
   ]
  },
  {
   "cell_type": "markdown",
   "id": "fb36ffa0",
   "metadata": {},
   "source": [
    "# BAGGING CLASSIFIER\n"
   ]
  },
  {
   "cell_type": "code",
   "execution_count": 25,
   "id": "9d0603f0",
   "metadata": {},
   "outputs": [],
   "source": [
    "from sklearn import tree\n",
    "clftree = tree.DecisionTreeClassifier()"
   ]
  },
  {
   "cell_type": "code",
   "execution_count": 26,
   "id": "ce6737a1",
   "metadata": {},
   "outputs": [],
   "source": [
    "from sklearn.ensemble import BaggingClassifier"
   ]
  },
  {
   "cell_type": "code",
   "execution_count": 27,
   "id": "37d36339",
   "metadata": {},
   "outputs": [],
   "source": [
    "bag_clf = BaggingClassifier(base_estimator = clftree, n_estimators = 1000,\n",
    "                           bootstrap =True, n_jobs=-1, random_state = 42)"
   ]
  },
  {
   "cell_type": "code",
   "execution_count": 28,
   "id": "82a209dd",
   "metadata": {},
   "outputs": [
    {
     "data": {
      "text/plain": [
       "BaggingClassifier(base_estimator=DecisionTreeClassifier(), n_estimators=1000,\n",
       "                  n_jobs=-1, random_state=42)"
      ]
     },
     "execution_count": 28,
     "metadata": {},
     "output_type": "execute_result"
    }
   ],
   "source": [
    "bag_clf.fit(x_train, y_train)"
   ]
  },
  {
   "cell_type": "code",
   "execution_count": 29,
   "id": "52e118a1",
   "metadata": {},
   "outputs": [
    {
     "data": {
      "text/plain": [
       "array([[27, 17],\n",
       "       [22, 36]], dtype=int64)"
      ]
     },
     "execution_count": 29,
     "metadata": {},
     "output_type": "execute_result"
    }
   ],
   "source": [
    "confusion_matrix(y_test, bag_clf.predict(x_test))"
   ]
  },
  {
   "cell_type": "code",
   "execution_count": 30,
   "id": "224baba4",
   "metadata": {},
   "outputs": [
    {
     "data": {
      "text/plain": [
       "0.6176470588235294"
      ]
     },
     "execution_count": 30,
     "metadata": {},
     "output_type": "execute_result"
    }
   ],
   "source": [
    "accuracy_score(y_test, bag_clf.predict(x_test))"
   ]
  },
  {
   "cell_type": "markdown",
   "id": "815aa73d",
   "metadata": {},
   "source": [
    "# RANDOM FOREST CLASSIFIER"
   ]
  },
  {
   "cell_type": "code",
   "execution_count": 31,
   "id": "eccc30d7",
   "metadata": {},
   "outputs": [],
   "source": [
    "from sklearn.ensemble import RandomForestClassifier"
   ]
  },
  {
   "cell_type": "code",
   "execution_count": 32,
   "id": "5947455a",
   "metadata": {},
   "outputs": [],
   "source": [
    "rf_clf= RandomForestClassifier(n_estimators=1000, n_jobs =-1, random_state=42)"
   ]
  },
  {
   "cell_type": "code",
   "execution_count": 33,
   "id": "73a38986",
   "metadata": {},
   "outputs": [
    {
     "data": {
      "text/plain": [
       "RandomForestClassifier(n_estimators=1000, n_jobs=-1, random_state=42)"
      ]
     },
     "execution_count": 33,
     "metadata": {},
     "output_type": "execute_result"
    }
   ],
   "source": [
    "rf_clf.fit(x_train, y_train)"
   ]
  },
  {
   "cell_type": "code",
   "execution_count": 34,
   "id": "ab034266",
   "metadata": {},
   "outputs": [
    {
     "data": {
      "text/plain": [
       "array([[25, 19],\n",
       "       [18, 40]], dtype=int64)"
      ]
     },
     "execution_count": 34,
     "metadata": {},
     "output_type": "execute_result"
    }
   ],
   "source": [
    "confusion_matrix(y_test, rf_clf.predict(x_test))\n"
   ]
  },
  {
   "cell_type": "code",
   "execution_count": 35,
   "id": "6e625f91",
   "metadata": {},
   "outputs": [
    {
     "data": {
      "text/plain": [
       "0.6372549019607843"
      ]
     },
     "execution_count": 35,
     "metadata": {},
     "output_type": "execute_result"
    }
   ],
   "source": [
    "accuracy_score(y_test, rf_clf.predict(x_test))"
   ]
  },
  {
   "cell_type": "markdown",
   "id": "7d4d2771",
   "metadata": {},
   "source": [
    "# Gradient Boosting"
   ]
  },
  {
   "cell_type": "code",
   "execution_count": 44,
   "id": "d69e5148",
   "metadata": {},
   "outputs": [],
   "source": [
    "from sklearn.ensemble import GradientBoostingClassifier"
   ]
  },
  {
   "cell_type": "code",
   "execution_count": 48,
   "id": "a895dd2e",
   "metadata": {},
   "outputs": [
    {
     "data": {
      "text/plain": [
       "GradientBoostingClassifier()"
      ]
     },
     "execution_count": 48,
     "metadata": {},
     "output_type": "execute_result"
    }
   ],
   "source": [
    "gbc_clf = GradientBoostingClassifier()\n",
    "gbc_clf.fit(x_train, y_train)"
   ]
  },
  {
   "cell_type": "code",
   "execution_count": 39,
   "id": "e495d7a7",
   "metadata": {},
   "outputs": [
    {
     "data": {
      "text/plain": [
       "0.5882352941176471"
      ]
     },
     "execution_count": 39,
     "metadata": {},
     "output_type": "execute_result"
    }
   ],
   "source": [
    "accuracy_score(y_test, gbc_clf.predict(x_test))"
   ]
  },
  {
   "cell_type": "code",
   "execution_count": 60,
   "id": "ab4569c6",
   "metadata": {},
   "outputs": [
    {
     "data": {
      "text/plain": [
       "GradientBoostingClassifier(learning_rate=0.01, max_depth=6, n_estimators=1000)"
      ]
     },
     "execution_count": 60,
     "metadata": {},
     "output_type": "execute_result"
    }
   ],
   "source": [
    "gbc_clf2= GradientBoostingClassifier(learning_rate=0.01, n_estimators= 1000, max_depth=6)\n",
    "gbc_clf2.fit(x_train, y_train)"
   ]
  },
  {
   "cell_type": "code",
   "execution_count": 50,
   "id": "f22ea779",
   "metadata": {},
   "outputs": [
    {
     "data": {
      "text/plain": [
       "0.7623762376237624"
      ]
     },
     "execution_count": 50,
     "metadata": {},
     "output_type": "execute_result"
    }
   ],
   "source": [
    "accuracy_score(y_train, gbc_clf2.predict(x_train))"
   ]
  },
  {
   "cell_type": "code",
   "execution_count": 61,
   "id": "88b2724e",
   "metadata": {},
   "outputs": [
    {
     "data": {
      "text/plain": [
       "0.6470588235294118"
      ]
     },
     "execution_count": 61,
     "metadata": {},
     "output_type": "execute_result"
    }
   ],
   "source": [
    "accuracy_score(y_test, gbc_clf2.predict(x_test))"
   ]
  },
  {
   "cell_type": "markdown",
   "id": "8d423560",
   "metadata": {},
   "source": [
    "# Ada Boosting"
   ]
  },
  {
   "cell_type": "code",
   "execution_count": 62,
   "id": "5bc260d8",
   "metadata": {},
   "outputs": [],
   "source": [
    "from sklearn.ensemble import AdaBoostClassifier"
   ]
  },
  {
   "cell_type": "code",
   "execution_count": 63,
   "id": "3bb994f7",
   "metadata": {},
   "outputs": [],
   "source": [
    "ada_clf=AdaBoostClassifier(learning_rate=0.02, n_estimators=5000)"
   ]
  },
  {
   "cell_type": "code",
   "execution_count": 64,
   "id": "745381b7",
   "metadata": {},
   "outputs": [
    {
     "data": {
      "text/plain": [
       "AdaBoostClassifier(learning_rate=0.02, n_estimators=5000)"
      ]
     },
     "execution_count": 64,
     "metadata": {},
     "output_type": "execute_result"
    }
   ],
   "source": [
    "ada_clf.fit(x_train, y_train)"
   ]
  },
  {
   "cell_type": "code",
   "execution_count": 65,
   "id": "56ad0504",
   "metadata": {},
   "outputs": [
    {
     "data": {
      "text/plain": [
       "0.8886138613861386"
      ]
     },
     "execution_count": 65,
     "metadata": {},
     "output_type": "execute_result"
    }
   ],
   "source": [
    "accuracy_score(y_train, ada_clf.predict(x_train))"
   ]
  },
  {
   "cell_type": "code",
   "execution_count": 68,
   "id": "7339f9b3",
   "metadata": {},
   "outputs": [
    {
     "data": {
      "text/plain": [
       "0.6274509803921569"
      ]
     },
     "execution_count": 68,
     "metadata": {},
     "output_type": "execute_result"
    }
   ],
   "source": [
    "accuracy_score(y_test, ada_clf.predict(x_test))"
   ]
  },
  {
   "cell_type": "code",
   "execution_count": 106,
   "id": "4d5062de",
   "metadata": {},
   "outputs": [],
   "source": [
    "ada_clf2= AdaBoostClassifier(rf_clf, learning_rate=0.05, n_estimators=100)"
   ]
  },
  {
   "cell_type": "code",
   "execution_count": 109,
   "id": "14d952d5",
   "metadata": {},
   "outputs": [
    {
     "data": {
      "text/plain": [
       "AdaBoostClassifier(base_estimator=RandomForestClassifier(n_estimators=1000,\n",
       "                                                         n_jobs=-1,\n",
       "                                                         random_state=42),\n",
       "                   learning_rate=0.05, n_estimators=100)"
      ]
     },
     "execution_count": 109,
     "metadata": {},
     "output_type": "execute_result"
    }
   ],
   "source": [
    "ada_clf2.fit(x_train, y_train)"
   ]
  },
  {
   "cell_type": "code",
   "execution_count": 110,
   "id": "34e5e83a",
   "metadata": {},
   "outputs": [
    {
     "data": {
      "text/plain": [
       "0.6470588235294118"
      ]
     },
     "execution_count": 110,
     "metadata": {},
     "output_type": "execute_result"
    }
   ],
   "source": [
    "accuracy_score(y_test, ada_clf2.predict(x_test))"
   ]
  },
  {
   "cell_type": "markdown",
   "id": "a3eeeacf",
   "metadata": {},
   "source": [
    "# XG BOOST"
   ]
  },
  {
   "cell_type": "code",
   "execution_count": 11,
   "id": "ab556250",
   "metadata": {},
   "outputs": [],
   "source": [
    "import xgboost as xgb"
   ]
  },
  {
   "cell_type": "code",
   "execution_count": 9,
   "id": "b43c68d3",
   "metadata": {},
   "outputs": [
    {
     "name": "stdout",
     "output_type": "stream",
     "text": [
      "Requirement already satisfied: xgboost in c:\\users\\hp\\anaconda3\\lib\\site-packages (1.7.2)\n",
      "Requirement already satisfied: numpy in c:\\users\\hp\\anaconda3\\lib\\site-packages (from xgboost) (1.21.5)\n",
      "Requirement already satisfied: scipy in c:\\users\\hp\\anaconda3\\lib\\site-packages (from xgboost) (1.7.3)\n",
      "Note: you may need to restart the kernel to use updated packages.\n"
     ]
    }
   ],
   "source": [
    "pip install xgboost \n"
   ]
  },
  {
   "cell_type": "code",
   "execution_count": 7,
   "id": "3757a915",
   "metadata": {},
   "outputs": [],
   "source": [
    "####parameter Tunning\n"
   ]
  },
  {
   "cell_type": "code",
   "execution_count": 12,
   "id": "10e3679b",
   "metadata": {},
   "outputs": [],
   "source": [
    "xgb_clf = xgb.XGBClassifier(max_depth=5, n_estimators=10000, learning_rate=0.3, n_jobs=-1)"
   ]
  },
  {
   "cell_type": "code",
   "execution_count": 35,
   "id": "d640e450",
   "metadata": {},
   "outputs": [
    {
     "name": "stdout",
     "output_type": "stream",
     "text": [
      "[07:57:28] WARNING: C:/buildkite-agent/builds/buildkite-windows-cpu-autoscaling-group-i-030221e36e1a46bfb-1/xgboost/xgboost-ci-windows/src/learner.cc:767: \n",
      "Parameters: { \"learning_rates\" } are not used.\n",
      "\n"
     ]
    },
    {
     "data": {
      "text/plain": [
       "XGBClassifier(base_score=0.5, booster='gbtree', callbacks=None,\n",
       "              colsample_bylevel=1, colsample_bynode=1, colsample_bytree=1,\n",
       "              early_stopping_rounds=None, enable_categorical=False,\n",
       "              eval_metric=None, feature_types=None, gamma=0, gpu_id=-1,\n",
       "              grow_policy='depthwise', importance_type=None,\n",
       "              interaction_constraints='', learning_rate=0.300000012,\n",
       "              learning_rates=0.1, max_bin=256, max_cat_threshold=64,\n",
       "              max_cat_to_onehot=4, max_delta_step=0, max_depth=6, max_leaves=0,\n",
       "              min_child_weight=1, missing=nan, monotone_constraints='()',\n",
       "              n_estimators=500, n_jobs=0, num_parallel_tree=1, predictor='auto', ...)"
      ]
     },
     "execution_count": 35,
     "metadata": {},
     "output_type": "execute_result"
    }
   ],
   "source": [
    "xgb_clf.fit(x_train, y_train)\n"
   ]
  },
  {
   "cell_type": "code",
   "execution_count": 36,
   "id": "e7701b65",
   "metadata": {},
   "outputs": [
    {
     "data": {
      "text/plain": [
       "0.6568627450980392"
      ]
     },
     "execution_count": 36,
     "metadata": {},
     "output_type": "execute_result"
    }
   ],
   "source": [
    "accuracy_score(y_test, xgb_clf.predict(x_test))"
   ]
  },
  {
   "cell_type": "code",
   "execution_count": 29,
   "id": "0245bfb4",
   "metadata": {},
   "outputs": [
    {
     "data": {
      "text/plain": [
       "<AxesSubplot:title={'center':'Feature importance'}, xlabel='F score', ylabel='Features'>"
      ]
     },
     "execution_count": 29,
     "metadata": {},
     "output_type": "execute_result"
    },
    {
     "data": {
      "image/png": "[encoded data removed]",
      "text/plain": [
       "<Figure size 432x288 with 1 Axes>"
      ]
     },
     "metadata": {
      "needs_background": "light"
     },
     "output_type": "display_data"
    }
   ],
   "source": [
    "xgb.plot_importance(xgb_clf)"
   ]
  },
  {
   "cell_type": "code",
   "execution_count": 30,
   "id": "76cd72d6",
   "metadata": {},
   "outputs": [],
   "source": [
    "xgb_clf=xgb.XGBClassifier(n_estimators=500, learning_rates=0.1, random_state=42)"
   ]
  },
  {
   "cell_type": "code",
   "execution_count": null,
   "id": "57267199",
   "metadata": {},
   "outputs": [],
   "source": []
  }
 ],
 "metadata": {
  "kernelspec": {
   "display_name": "Python 3 (ipykernel)",
   "language": "python",
   "name": "python3"
  },
  "language_info": {
   "codemirror_mode": {
    "name": "ipython",
    "version": 3
   },
   "file_extension": ".py",
   "mimetype": "text/x-python",
   "name": "python",
   "nbconvert_exporter": "python",
   "pygments_lexer": "ipython3",
   "version": "3.9.12"
  }
 },
 "nbformat": 4,
 "nbformat_minor": 5
}
